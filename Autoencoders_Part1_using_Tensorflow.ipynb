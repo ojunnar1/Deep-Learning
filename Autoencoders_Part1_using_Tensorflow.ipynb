{
  "nbformat": 4,
  "nbformat_minor": 0,
  "metadata": {
    "accelerator": "GPU",
    "colab": {
      "name": "Autoencoders Part1 using Tensorflow.ipynb",
      "provenance": [],
      "collapsed_sections": []
    },
    "kernelspec": {
      "name": "python3",
      "display_name": "Python 3"
    },
    "language_info": {
      "codemirror_mode": {
        "name": "ipython",
        "version": 3
      },
      "file_extension": ".py",
      "mimetype": "text/x-python",
      "name": "python",
      "nbconvert_exporter": "python",
      "pygments_lexer": "ipython3",
      "version": "3.7.3"
    }
  },
  "cells": [
    {
      "cell_type": "markdown",
      "metadata": {
        "id": "c65BC1cNJZl3",
        "colab_type": "text"
      },
      "source": [
        "# Autoencoders using Tensorflow- Part 1"
      ]
    },
    {
      "cell_type": "markdown",
      "metadata": {
        "id": "sTpEKJPWJde2",
        "colab_type": "text"
      },
      "source": [
        "## Contents\n",
        "\n",
        "\n",
        "*   Introduction\n",
        "*   Importing libraries and dataset\n",
        "*   Building the Model\n",
        "*   Training the model and displaying results\n",
        "\n",
        "\n",
        "\n"
      ]
    },
    {
      "cell_type": "markdown",
      "metadata": {
        "colab_type": "text",
        "id": "sFLVuCf9dnHF"
      },
      "source": [
        " ## Introduction\n",
        "\n",
        "The mnist dataset provided in python is a dataset of 70 000 images of handwritten digits (possible labels: from 0 to 9).The dataset is devided into tranining 60 000 examples with their labels and 10 000 test examples with their lables as well. \n",
        "Each example is an image represented by a matrix of size an array of 784 elements (this is the flattened version of the 28x28 image).\n"
      ]
    },
    {
      "cell_type": "markdown",
      "metadata": {
        "colab_type": "text",
        "id": "8ThNXAlddnHK"
      },
      "source": [
        "### Importing libraries and the dataset"
      ]
    },
    {
      "cell_type": "code",
      "metadata": {
        "colab_type": "code",
        "id": "4-JPoXNrdnHM",
        "outputId": "0d1aeb1f-fc2d-4e95-a9e7-d6ec8340199c",
        "scrolled": false,
        "colab": {
          "base_uri": "https://localhost:8080/",
          "height": 102
        }
      },
      "source": [
        "import os\n",
        "import numpy as np\n",
        "import matplotlib as mpb\n",
        "import matplotlib.pyplot as plt\n",
        "import tensorflow as tf\n",
        "tf.logging.set_verbosity(tf.logging.ERROR)\n",
        "\n",
        "# to make the output of the notebook stable across runs\n",
        "np.random.seed(42)\n",
        "\n",
        "# resize the axis to get pretty figure\n",
        "mpb.rc('axes', labelsize = 15)\n",
        "mpb.rc('xtick', labelsize = 12)\n",
        "mpb.rc('ytick', labelsize = 12)\n",
        "\n",
        "# Import the MNIST dataset\n",
        "#from tensorflow.examples.tutorials.mnist import input_data\n",
        "#mnist = input_data.read_data_sets(\"../MNIST_data/\", one_hot=True)\n",
        "#mnist = input_data.read_data_sets(\"/tmp/data/\", one_hot=True)\n",
        "\n",
        "from tensorflow.examples.tutorials.mnist import input_data\n",
        "mnist = input_data.read_data_sets(\"MNIST_data/\")\n",
        "\n",
        "print(mnist.train.__class__)"
      ],
      "execution_count": 0,
      "outputs": [
        {
          "output_type": "stream",
          "text": [
            "Extracting MNIST_data/train-images-idx3-ubyte.gz\n",
            "Extracting MNIST_data/train-labels-idx1-ubyte.gz\n",
            "Extracting MNIST_data/t10k-images-idx3-ubyte.gz\n",
            "Extracting MNIST_data/t10k-labels-idx1-ubyte.gz\n",
            "<class 'tensorflow.contrib.learn.python.learn.datasets.mnist.DataSet'>\n"
          ],
          "name": "stdout"
        }
      ]
    },
    {
      "cell_type": "code",
      "metadata": {
        "id": "0Fyd2T1rYl1m",
        "colab_type": "code",
        "outputId": "e9491215-f1ba-44fa-d1f3-3fc9f671244c",
        "colab": {
          "base_uri": "https://localhost:8080/",
          "height": 68
        }
      },
      "source": [
        "print(mnist.train.images.shape)\n",
        "print(mnist.validation.images.shape)\n",
        "print(mnist.test.images.shape)"
      ],
      "execution_count": 0,
      "outputs": [
        {
          "output_type": "stream",
          "text": [
            "(55000, 784)\n",
            "(5000, 784)\n",
            "(10000, 784)\n"
          ],
          "name": "stdout"
        }
      ]
    },
    {
      "cell_type": "markdown",
      "metadata": {
        "colab_type": "text",
        "id": "EyRhfKVMdnHe"
      },
      "source": [
        "### Building the model \n",
        "\n",
        "We are going to define variables, placeholders...of the model \n",
        "as well as the architecture of the model before running it in a tensorflow session."
      ]
    },
    {
      "cell_type": "markdown",
      "metadata": {
        "colab_type": "text",
        "id": "bVtjbKWJdnHi"
      },
      "source": [
        "\n",
        "#### 1-Define X, y the input and the respective output of the model "
      ]
    },
    {
      "cell_type": "code",
      "metadata": {
        "colab_type": "code",
        "id": "l6Xl5NGfdnHk",
        "colab": {}
      },
      "source": [
        "X = tf.placeholder(tf.float32, shape =(None,784))"
      ],
      "execution_count": 0,
      "outputs": []
    },
    {
      "cell_type": "markdown",
      "metadata": {
        "colab_type": "text",
        "id": "6YAl4KyjdnHt"
      },
      "source": [
        "In this part we are going to define the different layers structure in the encoder and decoder part. Structure of autoencoder is symmetric. \n",
        "#### 2-Define the dimensions of the layers and the respective Weigths and biases of the model with given number of neurons in layers"
      ]
    },
    {
      "cell_type": "code",
      "metadata": {
        "id": "GbZuLONQmlzY",
        "colab_type": "code",
        "colab": {}
      },
      "source": [
        ""
      ],
      "execution_count": 0,
      "outputs": []
    },
    {
      "cell_type": "code",
      "metadata": {
        "colab_type": "code",
        "id": "Y_w3xd-IdnHw",
        "colab": {}
      },
      "source": [
        "input_dim = 784\n",
        "lay1_dim = 256\n",
        "lay2_dim = 128  ### if 32 or 16, reconstructed image is not so good \n",
        "lay3_dim = 256\n",
        "output_dim = 784\n",
        "\n",
        "#[batch_size,input_dim] * W     batch_size* lay1_dim   +    b=[1,lay1_dim]   -> batch_size* lay1_dim    1->2->3->4\n",
        "\n",
        "# encoder weights\n",
        "Weight_encoder = tf.Variable(tf.random_normal(shape =(input_dim, lay1_dim)))\n",
        "Weight_encoder1 = tf.Variable(tf.random_normal(shape =(lay1_dim, lay2_dim)))\n",
        "\n",
        "# encoder biases \n",
        "bias_encoder = tf.Variable(tf.zeros(lay1_dim))\n",
        "bias_encoder1 = tf.Variable(tf.zeros(lay2_dim))    \n",
        "\n",
        "# decoder weights\n",
        "Weight_decoder = tf.Variable(tf.random_normal(shape =(lay2_dim, lay3_dim), mean = 0, stddev = 0.5))\n",
        "Weight_decoder1 = tf.Variable(tf.random_normal(shape =(lay3_dim, output_dim),mean = 0,  stddev = 0.5))\n",
        "\n",
        "# decoder biases\n",
        "bias_decoder = tf.Variable(tf.zeros(lay3_dim))          \n",
        "bias_decoder1 = tf.Variable(tf.zeros(output_dim))"
      ],
      "execution_count": 0,
      "outputs": []
    },
    {
      "cell_type": "markdown",
      "metadata": {
        "colab_type": "text",
        "id": "keBzRz3sdnH4"
      },
      "source": [
        "#### 3- Hyperparameters\n",
        "* Learning rate is a hyper-parameter that controls how much we are adjusting the weights of our network with respect the loss gradient.\n",
        "\n",
        "* The batch size defines the number of samples that will be propagated through the network.\n",
        "\n",
        "* An epoch is when an ENTIRE dataset is passed forwards and backwards through the neural network only ONCE.\n",
        "\n",
        "Here we will define the best hyperparameter that best optimizes the model in order to reconstruct the image.\n",
        "We look for a combination of hyperparameters which gives the best reocnstruction of the image in an acceptable execution time.\n",
        "#### 3- Initialize the hyperparameters with some usual values.\n"
      ]
    },
    {
      "cell_type": "code",
      "metadata": {
        "colab_type": "code",
        "id": "rT-NfhZRdnH9",
        "colab": {}
      },
      "source": [
        "Learning_Rate = 0.01\n",
        "num_epoch = 5\n",
        "Batch_Size = 1000"
      ],
      "execution_count": 0,
      "outputs": []
    },
    {
      "cell_type": "code",
      "metadata": {
        "id": "jl3FkVqbEoJ5",
        "colab_type": "code",
        "colab": {}
      },
      "source": [
        "help(tf.layers.Dense)"
      ],
      "execution_count": 0,
      "outputs": []
    },
    {
      "cell_type": "markdown",
      "metadata": {
        "colab_type": "text",
        "id": "u52pwEbMdnIE"
      },
      "source": [
        "Building an Encoder and Decoder\n",
        "\n",
        "An autoencoder is composed of two part:\n",
        "* An encoder that convert the input to an internal representation: h = f(x).\n",
        "* Decoder: that convert the internal representation to the outputs.\n",
        "\n",
        "#### 4- Using the weights  and biases defined before, define the functions encode and decode\n"
      ]
    },
    {
      "cell_type": "code",
      "metadata": {
        "colab_type": "code",
        "id": "vjRHg8SxdnIH",
        "colab": {}
      },
      "source": [
        "def encoder(x):\n",
        "    # Encoder Hidden layer with sigmoid activation #1\n",
        "    layer_1 = tf.nn.sigmoid(tf.add(tf.matmul(x, Weight_encoder),bias_encoder))\n",
        "    layer_2 = tf.nn.sigmoid(tf.add(tf.matmul(layer_1, Weight_encoder1), bias_encoder1))\n",
        "    return layer_2\n",
        "    \n",
        "def decoder(x):\n",
        "    # Decoder Hidden layer with sigmoid activation #1\n",
        "    layer_3 = tf.nn.sigmoid(tf.add(tf.matmul(x, Weight_decoder),tf.cast(bias_decoder, tf.float32)))\n",
        "    layer_4 = tf.nn.sigmoid(tf.add(tf.matmul(layer_3, Weight_decoder1),tf.cast(bias_decoder1,tf.float32)))\n",
        "    \n",
        "    return layer_4\n",
        "\n",
        "    #sqre(2/n)*normal_distrition\n",
        "\n",
        "    #sqre(1/n)*normal_distrition  Xaviea tanh \n",
        "\n",
        "\n",
        "En_layer_1=tf.compat.v1.layers.dense(X,lay1_dim,activation='relu',kernel_initializer=tf.keras.initializers.he_normal(seed=None))\n",
        "EN_layer_2=tf.compat.v1.layers.dense(En_layer_1,lay2_dim,activation='relu',kernel_initializer=tf.keras.initializers.he_normal(seed=None))\n",
        "\n",
        "\n",
        "DE_layer_1=tf.compat.v1.layers.dense(EN_layer_2,lay3_dim,activation='relu',kernel_initializer=tf.keras.initializers.he_normal(seed=None))\n",
        "DE_layer_2=tf.compat.v1.layers.dense(DE_layer_1,output_dim,activation='relu',kernel_initializer=tf.keras.initializers.he_normal(seed=None))\n",
        "\n",
        "# Define model\n",
        "#Encoder = encoder(X)\n",
        "#Decoder = decoder(Encoder)\n",
        "\n",
        "Encoder = EN_layer_2\n",
        "Decoder = DE_layer_2\n",
        "\n",
        "\n",
        "# prediction and target\n",
        "X_true, X_pred = X, Decoder\n",
        "\n",
        "# Loss\n",
        "loss = tf.reduce_mean(tf.pow(X_true - X_pred, 2))\n",
        "#train_step = tf.train.AdagradOptimizer(Learning_Rate).minimize(loss)\n",
        "train_step = tf.train.RMSPropOptimizer(Learning_Rate).minimize(loss)"
      ],
      "execution_count": 0,
      "outputs": []
    },
    {
      "cell_type": "code",
      "metadata": {
        "id": "AH_RMus5LAQQ",
        "colab_type": "code",
        "outputId": "f7fcb300-5251-49ad-958a-7bbb6530f202",
        "colab": {
          "base_uri": "https://localhost:8080/",
          "height": 34
        }
      },
      "source": [
        "X_true"
      ],
      "execution_count": 0,
      "outputs": [
        {
          "output_type": "execute_result",
          "data": {
            "text/plain": [
              "<tf.Tensor 'Placeholder:0' shape=(?, 784) dtype=float32>"
            ]
          },
          "metadata": {
            "tags": []
          },
          "execution_count": 16
        }
      ]
    },
    {
      "cell_type": "markdown",
      "metadata": {
        "colab_type": "text",
        "id": "AkkdJpk0dnIP"
      },
      "source": [
        "### Training the model and displaying results\n",
        "The entire model already defined, we can now train it.\n",
        "\n",
        "#### 5- Making the necessary changes and training the model. Afterwards, testing it on the test dataset.\n"
      ]
    },
    {
      "cell_type": "code",
      "metadata": {
        "colab_type": "code",
        "id": "-kCyj5v4dnIR",
        "outputId": "2914ddfd-5875-4edc-b8ae-03e06c0c398d",
        "scrolled": true,
        "colab": {
          "base_uri": "https://localhost:8080/",
          "height": 204
        }
      },
      "source": [
        "init = tf.global_variables_initializer()\n",
        "\n",
        "with tf.Session() as sess:\n",
        "    sess.run(init)\n",
        "    print('Training...')\n",
        "    for epoch in range(1, 10):\n",
        "        num_batch = mnist.train.num_examples//Batch_Size\n",
        "        \n",
        "        for batch in range(num_batch):\n",
        "            #batch_x, batch_y = mnist.train.next_batch(Batch_Size)\n",
        "           # a[i:i+batch_size]\n",
        "            batch_x = mnist.train.images[np.arange(batch*Batch_Size, Batch_Size + batch*Batch_Size)]\n",
        "            sess.run(train_step, feed_dict={X:batch_x})\n",
        "       # decoded_imgs=sess.run(Decoder,feed_dict={X:batch_x})\n",
        "        #decoded_imgs = Decoder.eval({X: batch_x})\n",
        "       # feed_dict = {X_true: batch_x}\n",
        "        train_loss=sess.run(loss,feed_dict={X: batch_x})\n",
        "       # train_loss = loss.eval(feed_dict)\n",
        "        print(\"epoch: {} | loss: {}\".format(epoch,train_loss)) \n",
        "   # sess.run()\n",
        "    decoded_imgs = Decoder.eval({X: mnist.test.images})\n",
        "    #decoded_imgs = sess.run(Decoder, feed_dict={X: mnist.test.images})\n",
        "    \n",
        "    feed_dict = {X: mnist.test.images}\n",
        "    print('loss over test set:', loss.eval(feed_dict))\n"
      ],
      "execution_count": 0,
      "outputs": [
        {
          "output_type": "stream",
          "text": [
            "Training...\n",
            "epoch: 1 | loss: 0.117451012134552\n",
            "epoch: 2 | loss: 0.087006576359272\n",
            "epoch: 3 | loss: 0.07689061760902405\n",
            "epoch: 4 | loss: 0.04965779557824135\n",
            "epoch: 5 | loss: 0.05297408252954483\n",
            "epoch: 6 | loss: 0.0424184687435627\n",
            "epoch: 7 | loss: 0.03638306260108948\n",
            "epoch: 8 | loss: 0.03154412657022476\n",
            "epoch: 9 | loss: 0.03360460698604584\n",
            "loss over test set: 0.03179211\n"
          ],
          "name": "stdout"
        }
      ]
    },
    {
      "cell_type": "code",
      "metadata": {
        "id": "46PjPACJYl15",
        "colab_type": "code",
        "outputId": "141a5acc-81f1-4c6f-8e9c-2234daed9cce",
        "colab": {
          "base_uri": "https://localhost:8080/",
          "height": 34
        }
      },
      "source": [
        "batch_x, batch_y = mnist.train.next_batch(0)\n",
        "batch_x"
      ],
      "execution_count": 0,
      "outputs": [
        {
          "output_type": "execute_result",
          "data": {
            "text/plain": [
              "array([], shape=(0, 784), dtype=float32)"
            ]
          },
          "metadata": {
            "tags": []
          },
          "execution_count": 39
        }
      ]
    },
    {
      "cell_type": "code",
      "metadata": {
        "id": "V82jFLOJor0a",
        "colab_type": "code",
        "outputId": "033f1b87-6232-4491-e053-e26ba973f455",
        "colab": {
          "base_uri": "https://localhost:8080/",
          "height": 34
        }
      },
      "source": [
        "decoded_imgs.shape"
      ],
      "execution_count": 0,
      "outputs": [
        {
          "output_type": "execute_result",
          "data": {
            "text/plain": [
              "(10000, 784)"
            ]
          },
          "metadata": {
            "tags": []
          },
          "execution_count": 40
        }
      ]
    },
    {
      "cell_type": "code",
      "metadata": {
        "id": "iJyPSn0_Yl17",
        "colab_type": "code",
        "colab": {}
      },
      "source": [
        "mnist.train.next_batch?"
      ],
      "execution_count": 0,
      "outputs": []
    },
    {
      "cell_type": "markdown",
      "metadata": {
        "colab_type": "text",
        "id": "s-Rf7qyUdnIa"
      },
      "source": [
        "\n",
        "#### 6- Displaying the original and the reconstructed model for a few examples"
      ]
    },
    {
      "cell_type": "code",
      "metadata": {
        "colab_type": "code",
        "id": "YQ6dRllTdnIc",
        "outputId": "b7029854-f9fa-45df-ee95-e4872906c930",
        "colab": {
          "base_uri": "https://localhost:8080/",
          "height": 248
        }
      },
      "source": [
        "examples_to_show = 10\n",
        "\n",
        "x_test = mnist.test.images\n",
        "\n",
        "plt.figure(figsize=(20, 4))\n",
        "for i in range(examples_to_show):\n",
        "    # display original\n",
        "    ax = plt.subplot(2, examples_to_show, i + 1)\n",
        "    plt.imshow(x_test[i].reshape(28, 28))\n",
        "    #plt.imread('png')\n",
        "    #scipy.imread()\n",
        "    #PIL\n",
        "    plt.gray()\n",
        "    ax.get_xaxis().set_visible(False)\n",
        "    ax.get_yaxis().set_visible(False)\n",
        "\n",
        "    # display reconstruction\n",
        "    ax = plt.subplot(2, examples_to_show, i + 1 + examples_to_show)\n",
        "    plt.imshow(decoded_imgs[i].reshape(28, 28))\n",
        "   # plt.gray()\n",
        "    ax.get_xaxis().set_visible(False)\n",
        "    ax.get_yaxis().set_visible(False)\n"
      ],
      "execution_count": 0,
      "outputs": [
        {
          "output_type": "display_data",
          "data": {
            "image/png": "[encoded data removed]",
            "text/plain": [
              "<Figure size 1440x288 with 20 Axes>"
            ]
          },
          "metadata": {
            "tags": []
          }
        }
      ]
    }
  ]
}