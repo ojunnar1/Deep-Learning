{
  "nbformat": 4,
  "nbformat_minor": 0,
  "metadata": {
    "colab": {
      "name": "Neural Networks from scratch and hyperparameter tuning.ipynb",
      "provenance": [],
      "collapsed_sections": [],
      "toc_visible": true
    },
    "kernelspec": {
      "display_name": "Python 3",
      "language": "python",
      "name": "python3"
    },
    "language_info": {
      "codemirror_mode": {
        "name": "ipython",
        "version": 3
      },
      "file_extension": ".py",
      "mimetype": "text/x-python",
      "name": "python",
      "nbconvert_exporter": "python",
      "pygments_lexer": "ipython3",
      "version": "3.7.3"
    }
  },
  "cells": [
    {
      "cell_type": "markdown",
      "metadata": {
        "colab_type": "text",
        "id": "OOGE584Y-6j7"
      },
      "source": [
        "## Neural Networks"
      ]
    },
    {
      "cell_type": "markdown",
      "metadata": {
        "colab_type": "text",
        "id": "ARyHHoq--6j9"
      },
      "source": [
        "### Table of contents\n",
        "\n",
        "\n",
        "- Generating Data\n",
        "- Data Preparation\n",
        "- Neural Networks from Scratch\n",
        "- Neural Networks using Sklearn\n",
        "- Model Training \n",
        "- Model Evaluation\n",
        "- Hyperparameter Tuning\n"
      ]
    },
    {
      "cell_type": "markdown",
      "metadata": {
        "id": "hqLO-NXUmpUu",
        "colab_type": "text"
      },
      "source": [
        "![alt text](https://adatis.co.uk/wp-content/uploads/ANN-Graph.gif)"
      ]
    },
    {
      "cell_type": "markdown",
      "metadata": {
        "id": "py730qwnEDWb",
        "colab_type": "text"
      },
      "source": [
        "### Generating Data <a id=\"data\"></a>"
      ]
    },
    {
      "cell_type": "code",
      "metadata": {
        "id": "R1lzM6AiEDWb",
        "colab_type": "code",
        "outputId": "77e7596c-ea59-4725-9069-9c850db54fe4",
        "colab": {
          "base_uri": "https://localhost:8080/",
          "height": 52
        }
      },
      "source": [
        "import numpy as np\n",
        "np.random.seed(123)\n",
        "\n",
        "# XOR dataset\n",
        "n_samples = 1000\n",
        "mu, sigma = 2, 3\n",
        "X = sigma * np.random.randn(n_samples, 2) + mu\n",
        "y = np.logical_xor(X[:, 0] > 0, X[:, 1] > 0).astype(int)\n",
        "\n",
        "print('X shape:', X.shape)\n",
        "print('y shape:', y.shape)"
      ],
      "execution_count": 0,
      "outputs": [
        {
          "output_type": "stream",
          "text": [
            "X shape: (1000, 2)\n",
            "y shape: (1000,)\n"
          ],
          "name": "stdout"
        }
      ]
    },
    {
      "cell_type": "code",
      "metadata": {
        "id": "rl8GkzvEIsgz",
        "colab_type": "code",
        "outputId": "c7ecdac5-455b-404f-f89d-adfe25eb71c9",
        "colab": {
          "base_uri": "https://localhost:8080/",
          "height": 209
        }
      },
      "source": [
        "print(X[:10])\n",
        "y[:10]"
      ],
      "execution_count": 0,
      "outputs": [
        {
          "output_type": "stream",
          "text": [
            "[[-1.25689181  4.99203634]\n",
            " [ 2.84893549 -2.51888414]\n",
            " [ 0.26419924  6.95430961]\n",
            " [-5.28003773  0.71326211]\n",
            " [ 5.79780878 -0.60022121]\n",
            " [-0.03665845  1.71587309]\n",
            " [ 6.47416888  0.08329401]\n",
            " [ 0.66805412  0.69694617]\n",
            " [ 8.61779025  8.56035827]\n",
            " [ 5.01216169  3.1585592 ]]\n"
          ],
          "name": "stdout"
        },
        {
          "output_type": "execute_result",
          "data": {
            "text/plain": [
              "array([1, 1, 0, 1, 1, 1, 0, 0, 0, 0])"
            ]
          },
          "metadata": {
            "tags": []
          },
          "execution_count": 10
        }
      ]
    },
    {
      "cell_type": "markdown",
      "metadata": {
        "id": "m1I0rqhzEDWf",
        "colab_type": "text"
      },
      "source": [
        " Plotting the data."
      ]
    },
    {
      "cell_type": "code",
      "metadata": {
        "id": "lz6kLBHzEDWf",
        "colab_type": "code",
        "outputId": "10d516a2-8ae1-411a-af79-3a66821668ab",
        "colab": {
          "base_uri": "https://localhost:8080/",
          "height": 300
        }
      },
      "source": [
        "import matplotlib.pyplot as plt\n",
        "%matplotlib inline\n",
        "\n",
        "plt.scatter(X[y == 0, 0], X[y == 0, 1], c= 'r', marker= 'x', label= 'Class 0') \n",
        "plt.scatter(X[y == 1, 0], X[y == 1, 1], c= 'b', marker= 'o', label= 'Class 1') \n",
        "plt.xlabel(\"$x_1$\", fontsize=14)\n",
        "plt.ylabel(\"$x_2$\", rotation=0, fontsize=14)\n",
        "plt.title('Scatter plot of data')\n",
        "plt.legend(loc=\"upper left\")\n",
        "plt.show()"
      ],
      "execution_count": 0,
      "outputs": [
        {
          "output_type": "display_data",
          "data": {
            "image/png": "[encoded data removed]",
            "text/plain": [
              "<Figure size 432x288 with 1 Axes>"
            ]
          },
          "metadata": {
            "tags": []
          }
        }
      ]
    },
    {
      "cell_type": "markdown",
      "metadata": {
        "id": "h5WcXX-UEDWi",
        "colab_type": "text"
      },
      "source": [
        "### Data Preparation <a id=\"data_prep\"></a>"
      ]
    },
    {
      "cell_type": "markdown",
      "metadata": {
        "id": "EkBfJr6IEDWi",
        "colab_type": "text"
      },
      "source": [
        "Splitting the data in a stratified fashion into training set with 80% of the samples and test set with the remaining 20%."
      ]
    },
    {
      "cell_type": "code",
      "metadata": {
        "id": "32cA4A-gEDWj",
        "colab_type": "code",
        "outputId": "9ab05e01-a5ea-435b-cbf7-89a8ba65c431",
        "colab": {
          "base_uri": "https://localhost:8080/",
          "height": 52
        }
      },
      "source": [
        "from sklearn.model_selection import train_test_split\n",
        "\n",
        "X_train, X_test, y_train, y_test = train_test_split(X, y, \n",
        "                     test_size= 0.2, \n",
        "                     stratify= y,\n",
        "                     random_state= 123)\n",
        "\n",
        "print('X_train shape:', X_train.shape)\n",
        "print('X_test shape:', X_test.shape)"
      ],
      "execution_count": 0,
      "outputs": [
        {
          "output_type": "stream",
          "text": [
            "X_train shape: (800, 2)\n",
            "X_test shape: (200, 2)\n"
          ],
          "name": "stdout"
        }
      ]
    },
    {
      "cell_type": "markdown",
      "metadata": {
        "id": "XGtdwkRzEDWl",
        "colab_type": "text"
      },
      "source": [
        "Transforming features by scaling each feature to the range of [0, 1]."
      ]
    },
    {
      "cell_type": "code",
      "metadata": {
        "id": "WTEAt-z5EDWm",
        "colab_type": "code",
        "outputId": "987b8323-f363-443b-cd8f-cd23e4b95b3f",
        "colab": {
          "base_uri": "https://localhost:8080/",
          "height": 34
        }
      },
      "source": [
        "from sklearn.preprocessing import MinMaxScaler\n",
        "\n",
        "scaler = MinMaxScaler()\n",
        "print(scaler)\n",
        "\n",
        "X_train = scaler.fit_transform(X_train)\n",
        "X_test = scaler.transform(X_test)"
      ],
      "execution_count": 0,
      "outputs": [
        {
          "output_type": "stream",
          "text": [
            "MinMaxScaler(copy=True, feature_range=(0, 1))\n"
          ],
          "name": "stdout"
        }
      ]
    },
    {
      "cell_type": "markdown",
      "metadata": {
        "colab_type": "text",
        "id": "n9p9Z9Za-6j-"
      },
      "source": [
        "### Neural Networks from Scratch <a id=\"NN_scratch\"></a>"
      ]
    },
    {
      "cell_type": "markdown",
      "metadata": {
        "id": "pM35Aqb-EDWo",
        "colab_type": "text"
      },
      "source": [
        "Implementing a two layer neural network from scratch."
      ]
    },
    {
      "cell_type": "code",
      "metadata": {
        "id": "xtqxDNurEDWp",
        "colab_type": "code",
        "colab": {}
      },
      "source": [
        "class Neural_Network:\n",
        "    def __init__(self, n_x = 2, n_h = 3, n_y = 1, lr= 0.01, num_iter= 100):    \n",
        "        self.W1 = np.random.randn(n_h, n_x) \n",
        "        self.b1 = np.random.randn(n_h, 1)\n",
        "        self.W2 = np.random.randn(n_y, n_h)\n",
        "        self.b2 = np.random.randn(n_y, 1)\n",
        "        self.output = np.zeros((n_y, 1))\n",
        "        self.lr = lr\n",
        "        self.num_iter = num_iter\n",
        "        \n",
        "    def sigmoid(self, t):\n",
        "        return 1/(1+np.exp(-t))\n",
        "\n",
        "    def sigmoid_derivative(self, t):\n",
        "        return self.sigmoid(t)*(1 - self.sigmoid(t))    \n",
        "    \n",
        "    def feedforward(self, X):\n",
        "        \n",
        "        self.Z1 = np.dot(self.W1, X.T) + self.b1   \n",
        "        self.A1 = self.sigmoid(self.Z1)   \n",
        "                \n",
        "        self.Z2 = np.dot(self.W2, self.A1) + self.b2       \n",
        "        self.A2 = self.sigmoid(self.Z2)  \n",
        "        \n",
        "        return self.A2\n",
        "    \n",
        "    def backpropagation(self, X, y):\n",
        "        \n",
        "        N = X.shape[0] # Number of examples\n",
        "\n",
        "        dZ2 = self.A2 - y.T   #(1,1000) - (1,1) = (1,1000)\n",
        "        \n",
        "        self.dW2 = (1/N) * np.dot(dZ2, self.A1.T) #(1,1000)*(1000,3) =(1,3)\n",
        "        \n",
        "        self.db2 = (1/N) * np.sum(dZ2, axis =1, keepdims = True)\n",
        "        \n",
        "        dZ1 = np.dot(self.W2.T, dZ2)*self.sigmoid_derivative(self.A1)  \n",
        "        \n",
        "        self.dW1 = (1/N) * np.dot(dZ1, X) # (3,1000)*(1000,2)\n",
        "        self.db1 = (1/N) * np.sum(dZ1, axis =1, keepdims = True)\n",
        "\n",
        "\n",
        "    def update_parameters(self):\n",
        "        self.W1 -= self.lr * self.dW1\n",
        "        self.b1 -= self.lr * self.db1\n",
        "        self.W2 -= self.lr * self.dW2\n",
        "        self.b2 -= self.lr * self.db2\n",
        "                \n",
        "    \n",
        "    # Define the cross entropy loss\n",
        "    def loss(self, y, y_hat):\n",
        "        return (-y * np.log(y_hat) - (1 - y) * np.log(1 - y_hat)).mean()\n",
        "    \n",
        "    \n",
        "    def fit(self, X, y):\n",
        "        \n",
        "        loss_history = []\n",
        "        for iter in range(self.num_iter):\n",
        "            \n",
        "            y_hat = self.feedforward(X)\n",
        "            \n",
        "            loss_history.append(self.loss(y, y_hat))\n",
        "            \n",
        "            self.backpropagation(X, y)\n",
        "            \n",
        "            self.update_parameters() \n",
        "            \n",
        "        return loss_history  \n",
        "            \n",
        "    # Calculate probability estimates\n",
        "    def predict_prob(self, X):\n",
        "        return self.feedforward(X)\n",
        "    \n",
        "    # Predict class labels for samples in X\n",
        "    def predict(self, X):\n",
        "        return self.predict_prob(X).round() \n",
        "        # sigmoid(linearCombination) [x1,x2]->[c]\n",
        "        # softmax(linearCombination) [x1,x2]->[r,b] where r+b=1\n",
        "        # lcR,lcB \n",
        "        # r = softmax(lcR) = exp(lcR)/(exp(lcR) + exp(lcB))\n",
        "        # b = softmax(lcB) = exp(lcB)/(exp(lcR) + exp(lcB))\n",
        "        # prediction argmax([r,b])\n",
        "        # ex: r= 0.6, b=0.4 then argmax([r,b]) = 0"
      ],
      "execution_count": 0,
      "outputs": []
    },
    {
      "cell_type": "code",
      "metadata": {
        "id": "rFCKgJJCEDWr",
        "colab_type": "code",
        "outputId": "5ec72ba8-2e60-4066-ca8e-ba8d1b4827cd",
        "colab": {
          "base_uri": "https://localhost:8080/",
          "height": 283
        }
      },
      "source": [
        "# Create an instance of the above class\n",
        "lr = Neural_Network(n_x = 2, n_h = 3, n_y = 1, lr= 0.1, num_iter= 10000)\n",
        "\n",
        "\n",
        "# Fit the model over training set\n",
        "J = lr.fit(X_train, y_train)\n",
        "\n",
        "plt.plot(J)\n",
        "# Make predictions over test set\n",
        "\n",
        "y_test_pred = lr.predict(X_test)\n",
        "\n",
        "# Measure accuracy over test set\n",
        "accuracy = (y_test_pred == y_test).mean()\n",
        "print('Accuracy over test set:', accuracy)"
      ],
      "execution_count": 0,
      "outputs": [
        {
          "output_type": "stream",
          "text": [
            "Accuracy over test set: 0.74\n"
          ],
          "name": "stdout"
        },
        {
          "output_type": "display_data",
          "data": {
            "image/png": "[encoded data removed]",
            "text/plain": [
              "<Figure size 432x288 with 1 Axes>"
            ]
          },
          "metadata": {
            "tags": []
          }
        }
      ]
    },
    {
      "cell_type": "markdown",
      "metadata": {
        "id": "uZJzO8fIEDWt",
        "colab_type": "text"
      },
      "source": [
        "### Neural Networks using SKlearn <a id=\"NN_sklearn\"></a>"
      ]
    },
    {
      "cell_type": "markdown",
      "metadata": {
        "id": "NCE2ZpNzEDWt",
        "colab_type": "text"
      },
      "source": [
        "#### Model Training"
      ]
    },
    {
      "cell_type": "code",
      "metadata": {
        "id": "UY1TXsj5EDWu",
        "colab_type": "code",
        "outputId": "c458fc24-074e-4528-d1ec-9f439ead5a31",
        "colab": {
          "base_uri": "https://localhost:8080/",
          "height": 157
        }
      },
      "source": [
        "from sklearn.neural_network import MLPClassifier\n",
        "\n",
        "mlp = MLPClassifier()\n",
        "\n",
        "# Fit the data\n",
        "mlp.fit(X_train, y_train)"
      ],
      "execution_count": 0,
      "outputs": [
        {
          "output_type": "execute_result",
          "data": {
            "text/plain": [
              "MLPClassifier(activation='relu', alpha=0.0001, batch_size='auto', beta_1=0.9,\n",
              "              beta_2=0.999, early_stopping=False, epsilon=1e-08,\n",
              "              hidden_layer_sizes=(100,), learning_rate='constant',\n",
              "              learning_rate_init=0.001, max_fun=15000, max_iter=200,\n",
              "              momentum=0.9, n_iter_no_change=10, nesterovs_momentum=True,\n",
              "              power_t=0.5, random_state=None, shuffle=True, solver='adam',\n",
              "              tol=0.0001, validation_fraction=0.1, verbose=False,\n",
              "              warm_start=False)"
            ]
          },
          "metadata": {
            "tags": []
          },
          "execution_count": 25
        }
      ]
    },
    {
      "cell_type": "markdown",
      "metadata": {
        "id": "ZGEeH_y2EDWw",
        "colab_type": "text"
      },
      "source": [
        "#### Model Evaluation"
      ]
    },
    {
      "cell_type": "markdown",
      "metadata": {
        "id": "Oy7BN_YDEDWw",
        "colab_type": "text"
      },
      "source": [
        "Plotting loss over training iterations. "
      ]
    },
    {
      "cell_type": "code",
      "metadata": {
        "id": "nKRZh4FxNuQP",
        "colab_type": "code",
        "outputId": "2df54034-995c-4259-db49-a29432ca1942",
        "colab": {
          "base_uri": "https://localhost:8080/",
          "height": 69
        }
      },
      "source": [
        "import sklearn\n",
        "print('The scikit-learn version is {}.'.format(sklearn.__version__))\n",
        "import sys\n",
        "print(sys.version)"
      ],
      "execution_count": 0,
      "outputs": [
        {
          "output_type": "stream",
          "text": [
            "The scikit-learn version is 0.22.1.\n",
            "3.6.9 (default, Nov  7 2019, 10:44:02) \n",
            "[GCC 8.3.0]\n"
          ],
          "name": "stdout"
        }
      ]
    },
    {
      "cell_type": "code",
      "metadata": {
        "id": "TpYscwX3EDWx",
        "colab_type": "code",
        "outputId": "13586f20-ac03-4c95-98d5-b6b711718acc",
        "colab": {
          "base_uri": "https://localhost:8080/",
          "height": 282
        }
      },
      "source": [
        "plt.plot(mlp.loss_curve_)"
      ],
      "execution_count": 0,
      "outputs": [
        {
          "output_type": "execute_result",
          "data": {
            "text/plain": [
              "[<matplotlib.lines.Line2D at 0x7fb020c607b8>]"
            ]
          },
          "metadata": {
            "tags": []
          },
          "execution_count": 26
        },
        {
          "output_type": "display_data",
          "data": {
            "image/png": "[encoded data removed]",
            "text/plain": [
              "<Figure size 432x288 with 1 Axes>"
            ]
          },
          "metadata": {
            "tags": []
          }
        }
      ]
    },
    {
      "cell_type": "code",
      "metadata": {
        "id": "vmhX7v_1EDWz",
        "colab_type": "code",
        "outputId": "7c5998de-8118-4813-db7c-8bd4c63cf137",
        "colab": {
          "base_uri": "https://localhost:8080/",
          "height": 34
        }
      },
      "source": [
        "mlp.loss"
      ],
      "execution_count": 0,
      "outputs": [
        {
          "output_type": "execute_result",
          "data": {
            "text/plain": [
              "'log_loss'"
            ]
          },
          "metadata": {
            "tags": []
          },
          "execution_count": 27
        }
      ]
    },
    {
      "cell_type": "code",
      "metadata": {
        "id": "aVg19l-aEDW2",
        "colab_type": "code",
        "outputId": "cba27022-0b27-4b57-d979-cb2c67c0d0b3",
        "colab": {
          "base_uri": "https://localhost:8080/",
          "height": 34
        }
      },
      "source": [
        "mlp.loss_"
      ],
      "execution_count": 0,
      "outputs": [
        {
          "output_type": "execute_result",
          "data": {
            "text/plain": [
              "0.42718609268529584"
            ]
          },
          "metadata": {
            "tags": []
          },
          "execution_count": 28
        }
      ]
    },
    {
      "cell_type": "code",
      "metadata": {
        "id": "clLyDHcGEDW4",
        "colab_type": "code",
        "outputId": "a236967e-297d-4f42-90dd-823f0fe1aa75",
        "colab": {
          "base_uri": "https://localhost:8080/",
          "height": 34
        }
      },
      "source": [
        "mlp.loss_curve_[-1]"
      ],
      "execution_count": 0,
      "outputs": [
        {
          "output_type": "execute_result",
          "data": {
            "text/plain": [
              "0.42718609268529584"
            ]
          },
          "metadata": {
            "tags": []
          },
          "execution_count": 29
        }
      ]
    },
    {
      "cell_type": "markdown",
      "metadata": {
        "id": "j77ZgQ-PEDW6",
        "colab_type": "text"
      },
      "source": [
        "&#x270d; Measure classification accuracy over the training/test sets."
      ]
    },
    {
      "cell_type": "code",
      "metadata": {
        "id": "cA1RfgcmEDW6",
        "colab_type": "code",
        "outputId": "b7fcfbb1-f138-4dee-a05c-884b65d88583",
        "colab": {
          "base_uri": "https://localhost:8080/",
          "height": 52
        }
      },
      "source": [
        "from sklearn.metrics import accuracy_score\n",
        "\n",
        "y_train_pred = mlp.predict(X_train)\n",
        "y_test_pred = mlp.predict(X_test)\n",
        "\n",
        "print(\"Training Accuracy: {0:.2f}\".format(accuracy_score(y_train, y_train_pred)))\n",
        "print(\"Testing Accuracy: {0:.2f}\".format(accuracy_score(y_test, y_test_pred)))"
      ],
      "execution_count": 0,
      "outputs": [
        {
          "output_type": "stream",
          "text": [
            "Training Accuracy: 0.82\n",
            "Testing Accuracy: 0.82\n"
          ],
          "name": "stdout"
        }
      ]
    },
    {
      "cell_type": "markdown",
      "metadata": {
        "id": "SBesJ2LCEDW8",
        "colab_type": "text"
      },
      "source": [
        " Building a text report showing the main classification metrics including precision, recall, f1-score, and accuracy."
      ]
    },
    {
      "cell_type": "code",
      "metadata": {
        "id": "4dZqF8uwEDW9",
        "colab_type": "code",
        "outputId": "cf19e4dc-1c21-4456-912f-ccb86b3e24f6",
        "colab": {
          "base_uri": "https://localhost:8080/",
          "height": 174
        }
      },
      "source": [
        "from sklearn.metrics import classification_report\n",
        "\n",
        "report = classification_report(y_test, y_test_pred)\n",
        "print(report)"
      ],
      "execution_count": 0,
      "outputs": [
        {
          "output_type": "stream",
          "text": [
            "              precision    recall  f1-score   support\n",
            "\n",
            "           0       0.84      0.87      0.86       125\n",
            "           1       0.77      0.73      0.75        75\n",
            "\n",
            "    accuracy                           0.82       200\n",
            "   macro avg       0.81      0.80      0.81       200\n",
            "weighted avg       0.82      0.82      0.82       200\n",
            "\n"
          ],
          "name": "stdout"
        }
      ]
    },
    {
      "cell_type": "markdown",
      "metadata": {
        "id": "J2bV7qmDEDW_",
        "colab_type": "text"
      },
      "source": [
        "Computing and plotting confusion matrix."
      ]
    },
    {
      "cell_type": "code",
      "metadata": {
        "id": "eADwmgwbEDW_",
        "colab_type": "code",
        "outputId": "d79ae38f-ca66-4769-c628-09fca0edeb81",
        "colab": {
          "base_uri": "https://localhost:8080/",
          "height": 295
        }
      },
      "source": [
        "from sklearn.metrics import confusion_matrix\n",
        "import seaborn as sns\n",
        "plt.figure(figsize=(6,4))\n",
        "\n",
        "cm = confusion_matrix(y_test, y_test_pred)\n",
        "sns.heatmap(cm, annot = True, cbar = False, fmt = \"d\", linewidths = .5, cmap = \"Blues\")\n",
        "plt.xlabel(\"Predicted class\")\n",
        "plt.ylabel(\"Actual class\")\n",
        "plt.title(\"Confusion Matrix\");"
      ],
      "execution_count": 0,
      "outputs": [
        {
          "output_type": "display_data",
          "data": {
            "image/png": "[encoded data removed]",
            "text/plain": [
              "<Figure size 432x288 with 1 Axes>"
            ]
          },
          "metadata": {
            "tags": []
          }
        }
      ]
    },
    {
      "cell_type": "markdown",
      "metadata": {
        "id": "vbKzcIsmEDXH",
        "colab_type": "text"
      },
      "source": [
        "#### Hyper-parameters Tuning"
      ]
    },
    {
      "cell_type": "markdown",
      "metadata": {
        "id": "7uJ49CwuEDXH",
        "colab_type": "text"
      },
      "source": [
        " Using GridSearchCV and finding the best estimator."
      ]
    },
    {
      "cell_type": "code",
      "metadata": {
        "id": "ENnfB6MPEDXI",
        "colab_type": "code",
        "outputId": "2cd82813-2b89-49f2-ceac-2cdbe2f798de",
        "colab": {
          "base_uri": "https://localhost:8080/",
          "height": 437
        }
      },
      "source": [
        "import warnings; warnings.filterwarnings('ignore')\n",
        "from sklearn.model_selection import GridSearchCV\n",
        "\n",
        "param_grid = {'hidden_layer_sizes': [(10,), (50,), (10, 10)],\n",
        "             'activation': ['tanh', 'relu'],\n",
        "             'learning_rate': ['constant', 'adaptive'],\n",
        "             'max_iter': [500],\n",
        "              'random_state': [123]}\n",
        "\n",
        "mlp = MLPClassifier()\n",
        "gs = GridSearchCV(mlp, param_grid, cv = 5, verbose= 1)\n",
        "gs.fit(X_train, y_train)"
      ],
      "execution_count": 0,
      "outputs": [
        {
          "output_type": "stream",
          "text": [
            "Fitting 5 folds for each of 12 candidates, totalling 60 fits\n"
          ],
          "name": "stdout"
        },
        {
          "output_type": "stream",
          "text": [
            "[Parallel(n_jobs=1)]: Using backend SequentialBackend with 1 concurrent workers.\n",
            "[Parallel(n_jobs=1)]: Done  60 out of  60 | elapsed:   51.6s finished\n"
          ],
          "name": "stderr"
        },
        {
          "output_type": "execute_result",
          "data": {
            "text/plain": [
              "GridSearchCV(cv=5, error_score=nan,\n",
              "             estimator=MLPClassifier(activation='relu', alpha=0.0001,\n",
              "                                     batch_size='auto', beta_1=0.9,\n",
              "                                     beta_2=0.999, early_stopping=False,\n",
              "                                     epsilon=1e-08, hidden_layer_sizes=(100,),\n",
              "                                     learning_rate='constant',\n",
              "                                     learning_rate_init=0.001, max_fun=15000,\n",
              "                                     max_iter=200, momentum=0.9,\n",
              "                                     n_iter_no_change=10,\n",
              "                                     nesterovs_momentum=True, power_t=0.5,\n",
              "                                     random_state...\n",
              "                                     solver='adam', tol=0.0001,\n",
              "                                     validation_fraction=0.1, verbose=False,\n",
              "                                     warm_start=False),\n",
              "             iid='deprecated', n_jobs=None,\n",
              "             param_grid={'activation': ['tanh', 'relu'],\n",
              "                         'hidden_layer_sizes': [(10,), (50,), (10, 10)],\n",
              "                         'learning_rate': ['constant', 'adaptive'],\n",
              "                         'max_iter': [500], 'random_state': [123]},\n",
              "             pre_dispatch='2*n_jobs', refit=True, return_train_score=False,\n",
              "             scoring=None, verbose=1)"
            ]
          },
          "metadata": {
            "tags": []
          },
          "execution_count": 21
        }
      ]
    },
    {
      "cell_type": "markdown",
      "metadata": {
        "id": "fEAqltOoEDXK",
        "colab_type": "text"
      },
      "source": [
        "Best obtained parameters"
      ]
    },
    {
      "cell_type": "code",
      "metadata": {
        "id": "WBvluNHKEDXL",
        "colab_type": "code",
        "outputId": "24deace8-ece5-4b29-9b9f-f8acc1b0a7a5",
        "colab": {
          "base_uri": "https://localhost:8080/",
          "height": 72
        }
      },
      "source": [
        "print(\"The best parameters are:\\n%s\" % (gs.best_params_)) "
      ],
      "execution_count": 0,
      "outputs": [
        {
          "output_type": "stream",
          "text": [
            "The best parameters are:\n",
            "{'activation': 'relu', 'hidden_layer_sizes': (10, 10), 'learning_rate': 'constant', 'max_iter': 500, 'random_state': 123}\n"
          ],
          "name": "stdout"
        }
      ]
    },
    {
      "cell_type": "code",
      "metadata": {
        "id": "3stra06GEDXN",
        "colab_type": "code",
        "outputId": "49093d75-7aa7-46bf-ba16-31f8eadbbb8b",
        "colab": {
          "base_uri": "https://localhost:8080/",
          "height": 52
        }
      },
      "source": [
        "y_train_pred = gs.predict(X_train)\n",
        "y_test_pred = gs.predict(X_test)\n",
        "\n",
        "print(\"Training Accuracy: {0:.2f}\".format(accuracy_score(y_train, y_train_pred)))\n",
        "print(\"Testing Accuracy: {0:.2f}\".format(accuracy_score(y_test, y_test_pred)))"
      ],
      "execution_count": 0,
      "outputs": [
        {
          "output_type": "stream",
          "text": [
            "Training Accuracy: 0.93\n",
            "Testing Accuracy: 0.93\n"
          ],
          "name": "stdout"
        }
      ]
    }
  ]
}