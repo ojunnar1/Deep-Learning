{
  "nbformat": 4,
  "nbformat_minor": 0,
  "metadata": {
    "kernelspec": {
      "display_name": "Python 3",
      "language": "python",
      "name": "python3"
    },
    "language_info": {
      "codemirror_mode": {
        "name": "ipython",
        "version": 3
      },
      "file_extension": ".py",
      "mimetype": "text/x-python",
      "name": "python",
      "nbconvert_exporter": "python",
      "pygments_lexer": "ipython3",
      "version": "3.6.8"
    },
    "colab": {
      "name": "Copy of B1.4.6 Recurrent NN, teachers' sheet.ipynb",
      "provenance": [],
      "collapsed_sections": []
    }
  },
  "cells": [
    {
      "cell_type": "markdown",
      "metadata": {
        "id": "Tguhtu5E97fi",
        "colab_type": "text"
      },
      "source": [
        "## Recurrent Neural Network\n",
        "\n",
        "### Contents\n",
        "\n",
        "#### 1.   Importing Dataset and Libraries\n",
        "#### 2.   Defining Model Parameters and Hyperparameters\n",
        "#### 3.   Displaying the images and labels for train and test from the dataset.\n",
        "#### 4.   Reshaping the data so that the vectors of pixels become square arrays.\n",
        "#### 5.   Defining the input and output of RNNs architecture\n",
        "#### 6.   Defining the RNNs model to classify images.\n",
        "#### 7.   Defining the loss and the prediction of the model\n",
        "#### 8.   Training the model and display the test loss and test accuracy\n",
        " \n"
      ]
    },
    {
      "cell_type": "markdown",
      "metadata": {
        "id": "bWE9P8QgsAR2",
        "colab_type": "text"
      },
      "source": [
        "### 1) Importing Dataset and Libraries"
      ]
    },
    {
      "cell_type": "code",
      "metadata": {
        "id": "_8Ttu9p697fm",
        "colab_type": "code",
        "outputId": "a432c9b6-5294-40e6-e2a5-843fccdefa23",
        "colab": {}
      },
      "source": [
        "import tensorflow as tf\n",
        "from tensorflow.examples.tutorials.mnist import input_data\n",
        "import numpy as np\n",
        "import matplotlib.pyplot as plt\n",
        "\n",
        "tf.set_random_seed(1)\n",
        "np.random.seed(1)\n",
        "\n",
        "mnist = input_data.read_data_sets('./mnist', one_hot=True)              # they has been normalized to range (0,1)"
      ],
      "execution_count": 0,
      "outputs": [
        {
          "output_type": "stream",
          "text": [
            "WARNING:tensorflow:From <ipython-input-1-f14d06e00100>:9: read_data_sets (from tensorflow.contrib.learn.python.learn.datasets.mnist) is deprecated and will be removed in a future version.\n",
            "Instructions for updating:\n",
            "Please use alternatives such as official/mnist/dataset.py from tensorflow/models.\n",
            "WARNING:tensorflow:From C:\\Users\\Dung\\Anaconda3\\lib\\site-packages\\tensorflow\\contrib\\learn\\python\\learn\\datasets\\mnist.py:260: maybe_download (from tensorflow.contrib.learn.python.learn.datasets.base) is deprecated and will be removed in a future version.\n",
            "Instructions for updating:\n",
            "Please write your own downloading logic.\n",
            "WARNING:tensorflow:From C:\\Users\\Dung\\Anaconda3\\lib\\site-packages\\tensorflow\\contrib\\learn\\python\\learn\\datasets\\mnist.py:262: extract_images (from tensorflow.contrib.learn.python.learn.datasets.mnist) is deprecated and will be removed in a future version.\n",
            "Instructions for updating:\n",
            "Please use tf.data to implement this functionality.\n",
            "Extracting ./mnist\\train-images-idx3-ubyte.gz\n",
            "WARNING:tensorflow:From C:\\Users\\Dung\\Anaconda3\\lib\\site-packages\\tensorflow\\contrib\\learn\\python\\learn\\datasets\\mnist.py:267: extract_labels (from tensorflow.contrib.learn.python.learn.datasets.mnist) is deprecated and will be removed in a future version.\n",
            "Instructions for updating:\n",
            "Please use tf.data to implement this functionality.\n",
            "Extracting ./mnist\\train-labels-idx1-ubyte.gz\n",
            "WARNING:tensorflow:From C:\\Users\\Dung\\Anaconda3\\lib\\site-packages\\tensorflow\\contrib\\learn\\python\\learn\\datasets\\mnist.py:110: dense_to_one_hot (from tensorflow.contrib.learn.python.learn.datasets.mnist) is deprecated and will be removed in a future version.\n",
            "Instructions for updating:\n",
            "Please use tf.one_hot on tensors.\n",
            "Extracting ./mnist\\t10k-images-idx3-ubyte.gz\n",
            "Extracting ./mnist\\t10k-labels-idx1-ubyte.gz\n",
            "WARNING:tensorflow:From C:\\Users\\Dung\\Anaconda3\\lib\\site-packages\\tensorflow\\contrib\\learn\\python\\learn\\datasets\\mnist.py:290: DataSet.__init__ (from tensorflow.contrib.learn.python.learn.datasets.mnist) is deprecated and will be removed in a future version.\n",
            "Instructions for updating:\n",
            "Please use alternatives such as official/mnist/dataset.py from tensorflow/models.\n"
          ],
          "name": "stdout"
        }
      ]
    },
    {
      "cell_type": "markdown",
      "metadata": {
        "id": "H-SukxWBtN-J",
        "colab_type": "text"
      },
      "source": [
        "### 2) Defining Model parameters and Hyperparameters"
      ]
    },
    {
      "cell_type": "code",
      "metadata": {
        "id": "loJ9wxrC97fz",
        "colab_type": "code",
        "colab": {}
      },
      "source": [
        "# hyperparameters\n",
        "n_neurons = 128\n",
        "learning_rate = 0.001\n",
        "batch_size = 128\n",
        "n_epochs = 10"
      ],
      "execution_count": 0,
      "outputs": []
    },
    {
      "cell_type": "code",
      "metadata": {
        "id": "aTWWcesJ97f8",
        "colab_type": "code",
        "colab": {}
      },
      "source": [
        "# parameters\n",
        "n_steps = 28 # 28 rows\n",
        "n_inputs = 28 # 28 cols\n",
        "n_outputs = 10 # 10 classes"
      ],
      "execution_count": 0,
      "outputs": []
    },
    {
      "cell_type": "markdown",
      "metadata": {
        "id": "TztrXujttXDn",
        "colab_type": "text"
      },
      "source": [
        "### 3) Displaying the images and labels for train and test from the dataset."
      ]
    },
    {
      "cell_type": "code",
      "metadata": {
        "id": "maGrATA097gE",
        "colab_type": "code",
        "outputId": "fa4262d0-911f-460a-e57d-3594f2dd7b18",
        "colab": {}
      },
      "source": [
        "# Display training and label of images\n",
        "print(mnist.train.images.shape)     # (55000, 28 * 28)\n",
        "print(mnist.train.labels.shape)   # (55000, 10)\n"
      ],
      "execution_count": 0,
      "outputs": [
        {
          "output_type": "stream",
          "text": [
            "(55000, 784)\n",
            "(55000, 10)\n"
          ],
          "name": "stdout"
        }
      ]
    },
    {
      "cell_type": "code",
      "metadata": {
        "id": "McGEYXMD97gL",
        "colab_type": "code",
        "outputId": "d0593c8d-f258-4dbe-af6f-bdca49d0945f",
        "colab": {}
      },
      "source": [
        "plt.imshow(mnist.train.images[0].reshape((28, 28)), cmap='gray')\n",
        "plt.title('%i' % np.argmax(mnist.train.labels[2001]))\n",
        "plt.show()"
      ],
      "execution_count": 0,
      "outputs": [
        {
          "output_type": "display_data",
          "data": {
            "image/png": "[encoded data removed]",
            "text/plain": [
              "<Figure size 432x288 with 1 Axes>"
            ]
          },
          "metadata": {
            "tags": [],
            "needs_background": "light"
          }
        }
      ]
    },
    {
      "cell_type": "markdown",
      "metadata": {
        "id": "f8sG6tjWuW1o",
        "colab_type": "text"
      },
      "source": [
        "### 4)  Reshaping the data so that the vectors of pixels become square arrays\n",
        "\n"
      ]
    },
    {
      "cell_type": "code",
      "metadata": {
        "id": "uwblDYBz97gl",
        "colab_type": "code",
        "outputId": "e8ed10ab-aebf-4b83-a129-b6b1006c136c",
        "colab": {}
      },
      "source": [
        "# input data\n",
        "from tensorflow.examples.tutorials.mnist import input_data\n",
        "mnist = input_data.read_data_sets('./mnist')\n",
        "X_test = mnist.test.images # X_test shape: [num_test, 28*28]\n",
        "X_test = X_test.reshape([-1, n_steps, n_inputs])\n",
        "y_test = mnist.test.labels"
      ],
      "execution_count": 0,
      "outputs": [
        {
          "output_type": "stream",
          "text": [
            "Extracting ./mnist\\train-images-idx3-ubyte.gz\n",
            "Extracting ./mnist\\train-labels-idx1-ubyte.gz\n",
            "Extracting ./mnist\\t10k-images-idx3-ubyte.gz\n",
            "Extracting ./mnist\\t10k-labels-idx1-ubyte.gz\n"
          ],
          "name": "stdout"
        }
      ]
    },
    {
      "cell_type": "markdown",
      "metadata": {
        "colab_type": "text",
        "id": "MpEjntSExuqm"
      },
      "source": [
        ""
      ]
    },
    {
      "cell_type": "markdown",
      "metadata": {
        "colab_type": "text",
        "id": "bE8HhPcqvg6y"
      },
      "source": [
        "### 5) Defining input and output of RNN's architecture"
      ]
    },
    {
      "cell_type": "code",
      "metadata": {
        "colab_type": "code",
        "id": "GT0YUAmxvcH3",
        "colab": {}
      },
      "source": [
        "# Define input and output\n",
        "X = tf.placeholder(tf.float32, [None, n_steps, n_inputs])\n",
        "y = tf.placeholder(tf.int32, [None])"
      ],
      "execution_count": 0,
      "outputs": []
    },
    {
      "cell_type": "markdown",
      "metadata": {
        "id": "3MUFceqGv62p",
        "colab_type": "text"
      },
      "source": [
        "### 6) Defining the RNN model\n",
        "The simple RNN layer will take a sequence of columns in an image array as inputs."
      ]
    },
    {
      "cell_type": "code",
      "metadata": {
        "colab_type": "code",
        "id": "Uz0uJWKevAjX",
        "colab": {}
      },
      "source": [
        "# Define your model\n",
        "cell = tf.nn.rnn_cell.BasicRNNCell(num_units=n_inputs)\n",
        "output, state = tf.nn.dynamic_rnn(cell, X, dtype=tf.float32)"
      ],
      "execution_count": 0,
      "outputs": []
    },
    {
      "cell_type": "markdown",
      "metadata": {
        "id": "G7hUCAjzv_5-",
        "colab_type": "text"
      },
      "source": [
        "### 7) Defining the loss and prediction of the RNN model"
      ]
    },
    {
      "cell_type": "code",
      "metadata": {
        "colab_type": "code",
        "id": "5B_-IH4uvIec",
        "colab": {}
      },
      "source": [
        "# Define the loss\n",
        "logits = tf.layers.dense(state, n_outputs)\n",
        "cross_entropy = tf.nn.sparse_softmax_cross_entropy_with_logits(labels=y, logits=logits)\n",
        "loss = tf.reduce_mean(cross_entropy)\n",
        "optimizer = tf.train.AdamOptimizer(learning_rate=learning_rate).minimize(loss)\n",
        "prediction = tf.nn.in_top_k(logits, y, 1)\n",
        "accuracy = tf.reduce_mean(tf.cast(prediction, tf.float32))"
      ],
      "execution_count": 0,
      "outputs": []
    },
    {
      "cell_type": "markdown",
      "metadata": {
        "id": "-2q7EkTewJ-I",
        "colab_type": "text"
      },
      "source": [
        "### 8) Training the model and displaying the test loss and test accuracy"
      ]
    },
    {
      "cell_type": "code",
      "metadata": {
        "id": "ZvIrhn9H97gt",
        "colab_type": "code",
        "outputId": "1a5de9ea-bb5a-4709-e8e6-5fecf549a2d0",
        "colab": {}
      },
      "source": [
        "# initialize the variables\n",
        "init = tf.global_variables_initializer()\n",
        "# train the model\n",
        "with tf.Session() as sess:\n",
        "    sess.run(init)\n",
        "    n_batches = mnist.train.num_examples // batch_size\n",
        "    for epoch in range(n_epochs):\n",
        "        for batch in range(n_batches):\n",
        "            X_train, y_train = mnist.train.next_batch(batch_size)\n",
        "            X_train = X_train.reshape([-1, n_steps, n_inputs])\n",
        "            sess.run(optimizer, feed_dict={X: X_train, y: y_train})\n",
        "        loss_train, acc_train = sess.run(\n",
        "            [loss, accuracy], feed_dict={X: X_train, y: y_train})\n",
        "        print('Epoch: {}, Train Loss: {:.3f}, Train Acc: {:.3f}'.format(\n",
        "            epoch + 1, loss_train, acc_train))\n",
        "    loss_test, acc_test = sess.run(\n",
        "        [loss, accuracy], feed_dict={X: X_test, y: y_test})\n",
        "    print('Test Loss: {:.3f}, Test Acc: {:.3f}'.format(loss_test, acc_test))"
      ],
      "execution_count": 0,
      "outputs": [
        {
          "output_type": "stream",
          "text": [
            "Epoch: 1, Train Loss: 1.062, Train Acc: 0.625\n",
            "Epoch: 2, Train Loss: 1.057, Train Acc: 0.672\n",
            "Epoch: 3, Train Loss: 0.644, Train Acc: 0.812\n",
            "Epoch: 4, Train Loss: 0.617, Train Acc: 0.844\n",
            "Epoch: 5, Train Loss: 0.471, Train Acc: 0.852\n",
            "Epoch: 6, Train Loss: 0.782, Train Acc: 0.750\n",
            "Epoch: 7, Train Loss: 0.479, Train Acc: 0.797\n",
            "Epoch: 8, Train Loss: 0.498, Train Acc: 0.859\n",
            "Epoch: 9, Train Loss: 0.409, Train Acc: 0.867\n",
            "Epoch: 10, Train Loss: 0.517, Train Acc: 0.844\n",
            "Test Loss: 0.382, Test Acc: 0.890\n"
          ],
          "name": "stdout"
        }
      ]
    }
  ]
}